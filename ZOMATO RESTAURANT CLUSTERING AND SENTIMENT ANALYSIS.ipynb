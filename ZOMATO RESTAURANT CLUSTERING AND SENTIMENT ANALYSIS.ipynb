{
 "cells": [
  {
   "cell_type": "markdown",
   "metadata": {
    "id": "LGcl5Bv9ed6u"
   },
   "source": [
    "# **Problem Statement**"
   ]
  },
  {
   "cell_type": "markdown",
   "metadata": {
    "id": "Dtb2te3Omis9"
   },
   "source": [
    "Zomato is an Indian restaurant aggregator and food delivery start-up founded by Deepinder Goyal and Pankaj Chaddah in 2008. Zomato provides information, menus and user-reviews of restaurants, and also has food delivery options from partner restaurants in select cities.\n",
    "\n",
    "India is quite famous for its diverse multi cuisine available in a large number of restaurants and hotel resorts, which is reminiscent of unity in diversity. Restaurant business in India is always evolving. More Indians are warming up to the idea of eating restaurant food whether by dining outside or getting food delivered. The growing number of restaurants in every state of India has been a motivation to inspect the data to get some insights, interesting facts and figures about the Indian food industry in each city. So, this project focuses on analysing the Zomato restaurant data for each city in India.\n",
    "\n",
    "The Project focuses on Customers and Company, you have  to analyze the sentiments of the reviews given by the customer in the data and made some useful conclusion in the form of Visualizations. Also, cluster the zomato restaurants into different segments. The data is vizualized as it becomes easy to analyse data at instant. The Analysis also solve some of the business cases that can directly help the customers finding the Best restaurant in their locality and for the company to grow up and work on the fields they are currently lagging in.\n",
    "\n",
    "This could help in clustering the restaurants into segments. Also the data has valuable information around cuisine and costing which can be used in cost vs. benefit analysis\n",
    "\n",
    "Data could be used for sentiment analysis. Also the metadata of reviewers can be used for identifying the critics in the industry. "
   ]
  },
  {
   "cell_type": "markdown",
   "metadata": {
    "id": "AzGDqdC4fZ-b"
   },
   "source": [
    "# **Attribute Information**"
   ]
  },
  {
   "cell_type": "markdown",
   "metadata": {
    "id": "1rDsYX7KtvFb"
   },
   "source": [
    "## **Zomato Restaurant names and Metadata**\n",
    "Use this dataset for clustering part"
   ]
  },
  {
   "cell_type": "markdown",
   "metadata": {
    "id": "3uB3PQRXtz-A"
   },
   "source": [
    "1. Name : Name of Restaurants\n",
    "\n",
    "2. Links : URL Links of Restaurants\n",
    "\n",
    "3. Cost : Per person estimated Cost of dining\n",
    "\n",
    "4. Collection : Tagging of Restaurants w.r.t. Zomato categories\n",
    "\n",
    "5. Cuisines : Cuisines served by Restaurants\n",
    "\n",
    "6. Timings : Restaurant Timings"
   ]
  },
  {
   "cell_type": "markdown",
   "metadata": {
    "id": "Pq7CVNxQuT8i"
   },
   "source": [
    "## **Zomato Restaurant reviews**\n",
    "Merge this dataset with Names and Matadata and then use for sentiment analysis part"
   ]
  },
  {
   "cell_type": "markdown",
   "metadata": {
    "id": "k9E4XoEGuc0G"
   },
   "source": [
    "1. Restaurant : Name of the Restaurant\n",
    "\n",
    "2. Reviewer : Name of the Reviewer\n",
    "\n",
    "3. Review : Review Text\n",
    "\n",
    "4. Rating : Rating Provided by Reviewer\n",
    "\n",
    "5. MetaData : Reviewer Metadata - No. of Reviews and followers\n",
    "\n",
    "6. Time: Date and Time of Review\n",
    "\n",
    "7. Pictures : No. of pictures posted with review"
   ]
  },
  {
   "cell_type": "code",
   "execution_count": 130,
   "metadata": {},
   "outputs": [],
   "source": [
    "# importing the essential libraries\n",
    "\n",
    "import pandas as pd\n",
    "import numpy as np\n",
    "import matplotlib.pyplot as plt\n",
    "import seaborn as sns"
   ]
  },
  {
   "cell_type": "code",
   "execution_count": 131,
   "metadata": {},
   "outputs": [],
   "source": [
    "# to make rows visible upto 500\n",
    "pd.set_option('display.max_rows', 500)\n",
    "pd.set_option('display.max_columns', 500)\n",
    "pd.set_option('display.width', 500)"
   ]
  },
  {
   "cell_type": "code",
   "execution_count": 132,
   "metadata": {},
   "outputs": [],
   "source": [
    "#reading the restaurant names data\n",
    "names_df = pd.read_csv('Zomato Restaurant names and Metadata.csv')\n",
    "\n",
    "#reading the zomato reviews data\n",
    "reviews_df = pd.read_csv('Zomato Restaurant reviews.csv')"
   ]
  },
  {
   "cell_type": "markdown",
   "metadata": {},
   "source": [
    "# Basic analysis on names data"
   ]
  },
  {
   "cell_type": "code",
   "execution_count": 133,
   "metadata": {},
   "outputs": [
    {
     "data": {
      "text/plain": [
       "(105, 6)"
      ]
     },
     "execution_count": 133,
     "metadata": {},
     "output_type": "execute_result"
    }
   ],
   "source": [
    "# Shape of the data\n",
    "names_df.shape"
   ]
  },
  {
   "cell_type": "code",
   "execution_count": 134,
   "metadata": {},
   "outputs": [
    {
     "data": {
      "text/html": [
       "<div>\n",
       "<style scoped>\n",
       "    .dataframe tbody tr th:only-of-type {\n",
       "        vertical-align: middle;\n",
       "    }\n",
       "\n",
       "    .dataframe tbody tr th {\n",
       "        vertical-align: top;\n",
       "    }\n",
       "\n",
       "    .dataframe thead th {\n",
       "        text-align: right;\n",
       "    }\n",
       "</style>\n",
       "<table border=\"1\" class=\"dataframe\">\n",
       "  <thead>\n",
       "    <tr style=\"text-align: right;\">\n",
       "      <th></th>\n",
       "      <th>Name</th>\n",
       "      <th>Links</th>\n",
       "      <th>Cost</th>\n",
       "      <th>Collections</th>\n",
       "      <th>Cuisines</th>\n",
       "      <th>Timings</th>\n",
       "    </tr>\n",
       "  </thead>\n",
       "  <tbody>\n",
       "    <tr>\n",
       "      <th>0</th>\n",
       "      <td>Beyond Flavours</td>\n",
       "      <td>https://www.zomato.com/hyderabad/beyond-flavou...</td>\n",
       "      <td>800</td>\n",
       "      <td>Food Hygiene Rated Restaurants in Hyderabad, C...</td>\n",
       "      <td>Chinese, Continental, Kebab, European, South I...</td>\n",
       "      <td>12noon to 3:30pm, 6:30pm to 11:30pm (Mon-Sun)</td>\n",
       "    </tr>\n",
       "    <tr>\n",
       "      <th>1</th>\n",
       "      <td>Paradise</td>\n",
       "      <td>https://www.zomato.com/hyderabad/paradise-gach...</td>\n",
       "      <td>800</td>\n",
       "      <td>Hyderabad's Hottest</td>\n",
       "      <td>Biryani, North Indian, Chinese</td>\n",
       "      <td>11 AM to 11 PM</td>\n",
       "    </tr>\n",
       "    <tr>\n",
       "      <th>2</th>\n",
       "      <td>Flechazo</td>\n",
       "      <td>https://www.zomato.com/hyderabad/flechazo-gach...</td>\n",
       "      <td>1,300</td>\n",
       "      <td>Great Buffets, Hyderabad's Hottest</td>\n",
       "      <td>Asian, Mediterranean, North Indian, Desserts</td>\n",
       "      <td>11:30 AM to 4:30 PM, 6:30 PM to 11 PM</td>\n",
       "    </tr>\n",
       "    <tr>\n",
       "      <th>3</th>\n",
       "      <td>Shah Ghouse Hotel &amp; Restaurant</td>\n",
       "      <td>https://www.zomato.com/hyderabad/shah-ghouse-h...</td>\n",
       "      <td>800</td>\n",
       "      <td>Late Night Restaurants</td>\n",
       "      <td>Biryani, North Indian, Chinese, Seafood, Bever...</td>\n",
       "      <td>12 Noon to 2 AM</td>\n",
       "    </tr>\n",
       "    <tr>\n",
       "      <th>4</th>\n",
       "      <td>Over The Moon Brew Company</td>\n",
       "      <td>https://www.zomato.com/hyderabad/over-the-moon...</td>\n",
       "      <td>1,200</td>\n",
       "      <td>Best Bars &amp; Pubs, Food Hygiene Rated Restauran...</td>\n",
       "      <td>Asian, Continental, North Indian, Chinese, Med...</td>\n",
       "      <td>12noon to 11pm (Mon, Tue, Wed, Thu, Sun), 12no...</td>\n",
       "    </tr>\n",
       "  </tbody>\n",
       "</table>\n",
       "</div>"
      ],
      "text/plain": [
       "                             Name                                              Links   Cost                                        Collections                                           Cuisines                                            Timings\n",
       "0                 Beyond Flavours  https://www.zomato.com/hyderabad/beyond-flavou...    800  Food Hygiene Rated Restaurants in Hyderabad, C...  Chinese, Continental, Kebab, European, South I...      12noon to 3:30pm, 6:30pm to 11:30pm (Mon-Sun)\n",
       "1                        Paradise  https://www.zomato.com/hyderabad/paradise-gach...    800                                Hyderabad's Hottest                     Biryani, North Indian, Chinese                                     11 AM to 11 PM\n",
       "2                        Flechazo  https://www.zomato.com/hyderabad/flechazo-gach...  1,300                 Great Buffets, Hyderabad's Hottest       Asian, Mediterranean, North Indian, Desserts              11:30 AM to 4:30 PM, 6:30 PM to 11 PM\n",
       "3  Shah Ghouse Hotel & Restaurant  https://www.zomato.com/hyderabad/shah-ghouse-h...    800                             Late Night Restaurants  Biryani, North Indian, Chinese, Seafood, Bever...                                    12 Noon to 2 AM\n",
       "4      Over The Moon Brew Company  https://www.zomato.com/hyderabad/over-the-moon...  1,200  Best Bars & Pubs, Food Hygiene Rated Restauran...  Asian, Continental, North Indian, Chinese, Med...  12noon to 11pm (Mon, Tue, Wed, Thu, Sun), 12no..."
      ]
     },
     "execution_count": 134,
     "metadata": {},
     "output_type": "execute_result"
    }
   ],
   "source": [
    "#head of the data\n",
    "names_df.head(5)"
   ]
  },
  {
   "cell_type": "code",
   "execution_count": 135,
   "metadata": {
    "scrolled": true
   },
   "outputs": [
    {
     "name": "stdout",
     "output_type": "stream",
     "text": [
      "<class 'pandas.core.frame.DataFrame'>\n",
      "RangeIndex: 105 entries, 0 to 104\n",
      "Data columns (total 6 columns):\n",
      " #   Column       Non-Null Count  Dtype \n",
      "---  ------       --------------  ----- \n",
      " 0   Name         105 non-null    object\n",
      " 1   Links        105 non-null    object\n",
      " 2   Cost         105 non-null    object\n",
      " 3   Collections  51 non-null     object\n",
      " 4   Cuisines     105 non-null    object\n",
      " 5   Timings      104 non-null    object\n",
      "dtypes: object(6)\n",
      "memory usage: 5.0+ KB\n"
     ]
    }
   ],
   "source": [
    "# Basic information about our dataframe\n",
    "names_df.info()"
   ]
  },
  {
   "cell_type": "code",
   "execution_count": 136,
   "metadata": {},
   "outputs": [
    {
     "data": {
      "text/plain": [
       "Name           105\n",
       "Links          105\n",
       "Cost            29\n",
       "Collections     42\n",
       "Cuisines        92\n",
       "Timings         77\n",
       "dtype: int64"
      ]
     },
     "execution_count": 136,
     "metadata": {},
     "output_type": "execute_result"
    }
   ],
   "source": [
    "# Columns and the no.of unique observations\n",
    "names_df.nunique()"
   ]
  },
  {
   "cell_type": "markdown",
   "metadata": {},
   "source": [
    "* There are total of 105 unique restuarants"
   ]
  },
  {
   "cell_type": "markdown",
   "metadata": {},
   "source": [
    "# Basic analysis on reviews data"
   ]
  },
  {
   "cell_type": "code",
   "execution_count": 137,
   "metadata": {},
   "outputs": [
    {
     "data": {
      "text/plain": [
       "(10000, 7)"
      ]
     },
     "execution_count": 137,
     "metadata": {},
     "output_type": "execute_result"
    }
   ],
   "source": [
    "# Shape of the data\n",
    "reviews_df.shape"
   ]
  },
  {
   "cell_type": "code",
   "execution_count": 138,
   "metadata": {},
   "outputs": [
    {
     "data": {
      "text/html": [
       "<div>\n",
       "<style scoped>\n",
       "    .dataframe tbody tr th:only-of-type {\n",
       "        vertical-align: middle;\n",
       "    }\n",
       "\n",
       "    .dataframe tbody tr th {\n",
       "        vertical-align: top;\n",
       "    }\n",
       "\n",
       "    .dataframe thead th {\n",
       "        text-align: right;\n",
       "    }\n",
       "</style>\n",
       "<table border=\"1\" class=\"dataframe\">\n",
       "  <thead>\n",
       "    <tr style=\"text-align: right;\">\n",
       "      <th></th>\n",
       "      <th>Name</th>\n",
       "      <th>Links</th>\n",
       "      <th>Cost</th>\n",
       "      <th>Collections</th>\n",
       "      <th>Cuisines</th>\n",
       "      <th>Timings</th>\n",
       "    </tr>\n",
       "  </thead>\n",
       "  <tbody>\n",
       "    <tr>\n",
       "      <th>0</th>\n",
       "      <td>Beyond Flavours</td>\n",
       "      <td>https://www.zomato.com/hyderabad/beyond-flavou...</td>\n",
       "      <td>800</td>\n",
       "      <td>Food Hygiene Rated Restaurants in Hyderabad, C...</td>\n",
       "      <td>Chinese, Continental, Kebab, European, South I...</td>\n",
       "      <td>12noon to 3:30pm, 6:30pm to 11:30pm (Mon-Sun)</td>\n",
       "    </tr>\n",
       "    <tr>\n",
       "      <th>1</th>\n",
       "      <td>Paradise</td>\n",
       "      <td>https://www.zomato.com/hyderabad/paradise-gach...</td>\n",
       "      <td>800</td>\n",
       "      <td>Hyderabad's Hottest</td>\n",
       "      <td>Biryani, North Indian, Chinese</td>\n",
       "      <td>11 AM to 11 PM</td>\n",
       "    </tr>\n",
       "    <tr>\n",
       "      <th>2</th>\n",
       "      <td>Flechazo</td>\n",
       "      <td>https://www.zomato.com/hyderabad/flechazo-gach...</td>\n",
       "      <td>1,300</td>\n",
       "      <td>Great Buffets, Hyderabad's Hottest</td>\n",
       "      <td>Asian, Mediterranean, North Indian, Desserts</td>\n",
       "      <td>11:30 AM to 4:30 PM, 6:30 PM to 11 PM</td>\n",
       "    </tr>\n",
       "    <tr>\n",
       "      <th>3</th>\n",
       "      <td>Shah Ghouse Hotel &amp; Restaurant</td>\n",
       "      <td>https://www.zomato.com/hyderabad/shah-ghouse-h...</td>\n",
       "      <td>800</td>\n",
       "      <td>Late Night Restaurants</td>\n",
       "      <td>Biryani, North Indian, Chinese, Seafood, Bever...</td>\n",
       "      <td>12 Noon to 2 AM</td>\n",
       "    </tr>\n",
       "    <tr>\n",
       "      <th>4</th>\n",
       "      <td>Over The Moon Brew Company</td>\n",
       "      <td>https://www.zomato.com/hyderabad/over-the-moon...</td>\n",
       "      <td>1,200</td>\n",
       "      <td>Best Bars &amp; Pubs, Food Hygiene Rated Restauran...</td>\n",
       "      <td>Asian, Continental, North Indian, Chinese, Med...</td>\n",
       "      <td>12noon to 11pm (Mon, Tue, Wed, Thu, Sun), 12no...</td>\n",
       "    </tr>\n",
       "  </tbody>\n",
       "</table>\n",
       "</div>"
      ],
      "text/plain": [
       "                             Name                                              Links   Cost                                        Collections                                           Cuisines                                            Timings\n",
       "0                 Beyond Flavours  https://www.zomato.com/hyderabad/beyond-flavou...    800  Food Hygiene Rated Restaurants in Hyderabad, C...  Chinese, Continental, Kebab, European, South I...      12noon to 3:30pm, 6:30pm to 11:30pm (Mon-Sun)\n",
       "1                        Paradise  https://www.zomato.com/hyderabad/paradise-gach...    800                                Hyderabad's Hottest                     Biryani, North Indian, Chinese                                     11 AM to 11 PM\n",
       "2                        Flechazo  https://www.zomato.com/hyderabad/flechazo-gach...  1,300                 Great Buffets, Hyderabad's Hottest       Asian, Mediterranean, North Indian, Desserts              11:30 AM to 4:30 PM, 6:30 PM to 11 PM\n",
       "3  Shah Ghouse Hotel & Restaurant  https://www.zomato.com/hyderabad/shah-ghouse-h...    800                             Late Night Restaurants  Biryani, North Indian, Chinese, Seafood, Bever...                                    12 Noon to 2 AM\n",
       "4      Over The Moon Brew Company  https://www.zomato.com/hyderabad/over-the-moon...  1,200  Best Bars & Pubs, Food Hygiene Rated Restauran...  Asian, Continental, North Indian, Chinese, Med...  12noon to 11pm (Mon, Tue, Wed, Thu, Sun), 12no..."
      ]
     },
     "execution_count": 138,
     "metadata": {},
     "output_type": "execute_result"
    }
   ],
   "source": [
    "#head of the data\n",
    "names_df.head(5)"
   ]
  },
  {
   "cell_type": "code",
   "execution_count": 139,
   "metadata": {},
   "outputs": [
    {
     "name": "stdout",
     "output_type": "stream",
     "text": [
      "<class 'pandas.core.frame.DataFrame'>\n",
      "RangeIndex: 10000 entries, 0 to 9999\n",
      "Data columns (total 7 columns):\n",
      " #   Column      Non-Null Count  Dtype \n",
      "---  ------      --------------  ----- \n",
      " 0   Restaurant  10000 non-null  object\n",
      " 1   Reviewer    9962 non-null   object\n",
      " 2   Review      9955 non-null   object\n",
      " 3   Rating      9962 non-null   object\n",
      " 4   Metadata    9962 non-null   object\n",
      " 5   Time        9962 non-null   object\n",
      " 6   Pictures    10000 non-null  int64 \n",
      "dtypes: int64(1), object(6)\n",
      "memory usage: 547.0+ KB\n"
     ]
    }
   ],
   "source": [
    "# Basic information about our dataframe\n",
    "reviews_df.info()"
   ]
  },
  {
   "cell_type": "markdown",
   "metadata": {},
   "source": [
    "* There are total of 9955 rows with no null values in this dataset\n",
    "* It is okay to drop those"
   ]
  },
  {
   "cell_type": "code",
   "execution_count": 140,
   "metadata": {},
   "outputs": [
    {
     "data": {
      "text/plain": [
       "Restaurant     100\n",
       "Reviewer      7446\n",
       "Review        9364\n",
       "Rating          10\n",
       "Metadata      2477\n",
       "Time          9782\n",
       "Pictures        36\n",
       "dtype: int64"
      ]
     },
     "execution_count": 140,
     "metadata": {},
     "output_type": "execute_result"
    }
   ],
   "source": [
    "# Columns and the no.of unique observations\n",
    "reviews_df.nunique()"
   ]
  },
  {
   "cell_type": "markdown",
   "metadata": {},
   "source": [
    "* Here unique restaurants are 100, So 5 of the restaurants doesn't have any reviews"
   ]
  },
  {
   "cell_type": "code",
   "execution_count": 141,
   "metadata": {},
   "outputs": [
    {
     "data": {
      "text/plain": [
       "array(['5', '4', '1', '3', '2', '3.5', '4.5', '2.5', '1.5', 'Like', nan],\n",
       "      dtype=object)"
      ]
     },
     "execution_count": 141,
     "metadata": {},
     "output_type": "execute_result"
    }
   ],
   "source": [
    "reviews_df['Rating'].unique()"
   ]
  },
  {
   "cell_type": "markdown",
   "metadata": {},
   "source": [
    "* For the ratings column nan values can be dropped\n",
    "* But 'Like' might be an invalid entry"
   ]
  },
  {
   "cell_type": "markdown",
   "metadata": {},
   "source": [
    "# Merging the datasets"
   ]
  },
  {
   "cell_type": "code",
   "execution_count": 142,
   "metadata": {},
   "outputs": [],
   "source": [
    "#Changing the column name for convenience while merging\n",
    "names_df = names_df.rename(columns={'Name':'Restaurant'})\n",
    "\n",
    "# Merging the two dataframes\n",
    "df = pd.merge(reviews_df, names_df, how='left', on='Restaurant')"
   ]
  },
  {
   "cell_type": "code",
   "execution_count": 143,
   "metadata": {},
   "outputs": [
    {
     "data": {
      "text/html": [
       "<div>\n",
       "<style scoped>\n",
       "    .dataframe tbody tr th:only-of-type {\n",
       "        vertical-align: middle;\n",
       "    }\n",
       "\n",
       "    .dataframe tbody tr th {\n",
       "        vertical-align: top;\n",
       "    }\n",
       "\n",
       "    .dataframe thead th {\n",
       "        text-align: right;\n",
       "    }\n",
       "</style>\n",
       "<table border=\"1\" class=\"dataframe\">\n",
       "  <thead>\n",
       "    <tr style=\"text-align: right;\">\n",
       "      <th></th>\n",
       "      <th>Restaurant</th>\n",
       "      <th>Reviewer</th>\n",
       "      <th>Review</th>\n",
       "      <th>Rating</th>\n",
       "      <th>Metadata</th>\n",
       "      <th>Time</th>\n",
       "      <th>Pictures</th>\n",
       "      <th>Links</th>\n",
       "      <th>Cost</th>\n",
       "      <th>Collections</th>\n",
       "      <th>Cuisines</th>\n",
       "      <th>Timings</th>\n",
       "    </tr>\n",
       "  </thead>\n",
       "  <tbody>\n",
       "    <tr>\n",
       "      <th>0</th>\n",
       "      <td>Beyond Flavours</td>\n",
       "      <td>Rusha Chakraborty</td>\n",
       "      <td>The ambience was good, food was quite good . h...</td>\n",
       "      <td>5</td>\n",
       "      <td>1 Review , 2 Followers</td>\n",
       "      <td>5/25/2019 15:54</td>\n",
       "      <td>0</td>\n",
       "      <td>https://www.zomato.com/hyderabad/beyond-flavou...</td>\n",
       "      <td>800</td>\n",
       "      <td>Food Hygiene Rated Restaurants in Hyderabad, C...</td>\n",
       "      <td>Chinese, Continental, Kebab, European, South I...</td>\n",
       "      <td>12noon to 3:30pm, 6:30pm to 11:30pm (Mon-Sun)</td>\n",
       "    </tr>\n",
       "    <tr>\n",
       "      <th>1</th>\n",
       "      <td>Beyond Flavours</td>\n",
       "      <td>Anusha Tirumalaneedi</td>\n",
       "      <td>Ambience is too good for a pleasant evening. S...</td>\n",
       "      <td>5</td>\n",
       "      <td>3 Reviews , 2 Followers</td>\n",
       "      <td>5/25/2019 14:20</td>\n",
       "      <td>0</td>\n",
       "      <td>https://www.zomato.com/hyderabad/beyond-flavou...</td>\n",
       "      <td>800</td>\n",
       "      <td>Food Hygiene Rated Restaurants in Hyderabad, C...</td>\n",
       "      <td>Chinese, Continental, Kebab, European, South I...</td>\n",
       "      <td>12noon to 3:30pm, 6:30pm to 11:30pm (Mon-Sun)</td>\n",
       "    </tr>\n",
       "    <tr>\n",
       "      <th>2</th>\n",
       "      <td>Beyond Flavours</td>\n",
       "      <td>Ashok Shekhawat</td>\n",
       "      <td>A must try.. great food great ambience. Thnx f...</td>\n",
       "      <td>5</td>\n",
       "      <td>2 Reviews , 3 Followers</td>\n",
       "      <td>5/24/2019 22:54</td>\n",
       "      <td>0</td>\n",
       "      <td>https://www.zomato.com/hyderabad/beyond-flavou...</td>\n",
       "      <td>800</td>\n",
       "      <td>Food Hygiene Rated Restaurants in Hyderabad, C...</td>\n",
       "      <td>Chinese, Continental, Kebab, European, South I...</td>\n",
       "      <td>12noon to 3:30pm, 6:30pm to 11:30pm (Mon-Sun)</td>\n",
       "    </tr>\n",
       "    <tr>\n",
       "      <th>3</th>\n",
       "      <td>Beyond Flavours</td>\n",
       "      <td>Swapnil Sarkar</td>\n",
       "      <td>Soumen das and Arun was a great guy. Only beca...</td>\n",
       "      <td>5</td>\n",
       "      <td>1 Review , 1 Follower</td>\n",
       "      <td>5/24/2019 22:11</td>\n",
       "      <td>0</td>\n",
       "      <td>https://www.zomato.com/hyderabad/beyond-flavou...</td>\n",
       "      <td>800</td>\n",
       "      <td>Food Hygiene Rated Restaurants in Hyderabad, C...</td>\n",
       "      <td>Chinese, Continental, Kebab, European, South I...</td>\n",
       "      <td>12noon to 3:30pm, 6:30pm to 11:30pm (Mon-Sun)</td>\n",
       "    </tr>\n",
       "    <tr>\n",
       "      <th>4</th>\n",
       "      <td>Beyond Flavours</td>\n",
       "      <td>Dileep</td>\n",
       "      <td>Food is good.we ordered Kodi drumsticks and ba...</td>\n",
       "      <td>5</td>\n",
       "      <td>3 Reviews , 2 Followers</td>\n",
       "      <td>5/24/2019 21:37</td>\n",
       "      <td>0</td>\n",
       "      <td>https://www.zomato.com/hyderabad/beyond-flavou...</td>\n",
       "      <td>800</td>\n",
       "      <td>Food Hygiene Rated Restaurants in Hyderabad, C...</td>\n",
       "      <td>Chinese, Continental, Kebab, European, South I...</td>\n",
       "      <td>12noon to 3:30pm, 6:30pm to 11:30pm (Mon-Sun)</td>\n",
       "    </tr>\n",
       "  </tbody>\n",
       "</table>\n",
       "</div>"
      ],
      "text/plain": [
       "        Restaurant              Reviewer                                             Review Rating                 Metadata             Time  Pictures                                              Links Cost                                        Collections                                           Cuisines                                        Timings\n",
       "0  Beyond Flavours     Rusha Chakraborty  The ambience was good, food was quite good . h...      5   1 Review , 2 Followers  5/25/2019 15:54         0  https://www.zomato.com/hyderabad/beyond-flavou...  800  Food Hygiene Rated Restaurants in Hyderabad, C...  Chinese, Continental, Kebab, European, South I...  12noon to 3:30pm, 6:30pm to 11:30pm (Mon-Sun)\n",
       "1  Beyond Flavours  Anusha Tirumalaneedi  Ambience is too good for a pleasant evening. S...      5  3 Reviews , 2 Followers  5/25/2019 14:20         0  https://www.zomato.com/hyderabad/beyond-flavou...  800  Food Hygiene Rated Restaurants in Hyderabad, C...  Chinese, Continental, Kebab, European, South I...  12noon to 3:30pm, 6:30pm to 11:30pm (Mon-Sun)\n",
       "2  Beyond Flavours       Ashok Shekhawat  A must try.. great food great ambience. Thnx f...      5  2 Reviews , 3 Followers  5/24/2019 22:54         0  https://www.zomato.com/hyderabad/beyond-flavou...  800  Food Hygiene Rated Restaurants in Hyderabad, C...  Chinese, Continental, Kebab, European, South I...  12noon to 3:30pm, 6:30pm to 11:30pm (Mon-Sun)\n",
       "3  Beyond Flavours        Swapnil Sarkar  Soumen das and Arun was a great guy. Only beca...      5    1 Review , 1 Follower  5/24/2019 22:11         0  https://www.zomato.com/hyderabad/beyond-flavou...  800  Food Hygiene Rated Restaurants in Hyderabad, C...  Chinese, Continental, Kebab, European, South I...  12noon to 3:30pm, 6:30pm to 11:30pm (Mon-Sun)\n",
       "4  Beyond Flavours                Dileep  Food is good.we ordered Kodi drumsticks and ba...      5  3 Reviews , 2 Followers  5/24/2019 21:37         0  https://www.zomato.com/hyderabad/beyond-flavou...  800  Food Hygiene Rated Restaurants in Hyderabad, C...  Chinese, Continental, Kebab, European, South I...  12noon to 3:30pm, 6:30pm to 11:30pm (Mon-Sun)"
      ]
     },
     "execution_count": 143,
     "metadata": {},
     "output_type": "execute_result"
    }
   ],
   "source": [
    "df.head()"
   ]
  },
  {
   "cell_type": "markdown",
   "metadata": {},
   "source": [
    "# Data Cleaning"
   ]
  },
  {
   "cell_type": "code",
   "execution_count": 144,
   "metadata": {},
   "outputs": [],
   "source": [
    "# Dropping the unwanted columns\n",
    "df.drop(['Reviewer', 'Time', 'Pictures', 'Links', 'Collections'], axis=1, inplace=True)"
   ]
  },
  {
   "cell_type": "code",
   "execution_count": 145,
   "metadata": {},
   "outputs": [
    {
     "name": "stdout",
     "output_type": "stream",
     "text": [
      "\u001b[1mColumn\t   null count\u001b[0m\n",
      "Restaurant      0\n",
      "Review         45\n",
      "Rating         38\n",
      "Metadata       38\n",
      "Cost            0\n",
      "Cuisines        0\n",
      "Timings       100\n",
      "dtype: int64\n"
     ]
    }
   ],
   "source": [
    "print('\\033[1m' + 'Column\\t   null count' + '\\033[0m')\n",
    "print(df.isnull().sum())"
   ]
  },
  {
   "cell_type": "code",
   "execution_count": 146,
   "metadata": {},
   "outputs": [],
   "source": [
    "#Dropping the row in which we got invalid entry for Rating\n",
    "df = df[df['Rating']!='Like']"
   ]
  },
  {
   "cell_type": "code",
   "execution_count": 147,
   "metadata": {},
   "outputs": [
    {
     "data": {
      "text/plain": [
       "38"
      ]
     },
     "execution_count": 147,
     "metadata": {},
     "output_type": "execute_result"
    }
   ],
   "source": [
    "# rows with Review,Rating,Metadata as null values\n",
    "df[(df['Review'].isnull())&(df['Rating'].isnull())&(df['Metadata'].isnull())].shape[0]"
   ]
  },
  {
   "cell_type": "markdown",
   "metadata": {},
   "source": [
    "* As there are more than 38 rows which having the above columns as null, Imputation of ratings is unneccesary\n",
    "* Even if we imput, we have to drop those rows as they still have null values"
   ]
  },
  {
   "cell_type": "code",
   "execution_count": 148,
   "metadata": {},
   "outputs": [],
   "source": [
    "#removing all the rows with null values\n",
    "df = df[(df['Review'].notna())&(df['Timings'].notna())]"
   ]
  },
  {
   "cell_type": "code",
   "execution_count": 149,
   "metadata": {},
   "outputs": [
    {
     "name": "stdout",
     "output_type": "stream",
     "text": [
      "\u001b[1mColumn\t   null count\u001b[0m\n",
      "Restaurant    0\n",
      "Review        0\n",
      "Rating        0\n",
      "Metadata      0\n",
      "Cost          0\n",
      "Cuisines      0\n",
      "Timings       0\n",
      "dtype: int64\n"
     ]
    }
   ],
   "source": [
    "print('\\033[1m' + 'Column\\t   null count' + '\\033[0m')\n",
    "print(df.isnull().sum())"
   ]
  },
  {
   "cell_type": "markdown",
   "metadata": {},
   "source": [
    "# Data PreProcessing"
   ]
  },
  {
   "cell_type": "code",
   "execution_count": 150,
   "metadata": {},
   "outputs": [
    {
     "data": {
      "text/plain": [
       "Restaurant    object\n",
       "Review        object\n",
       "Rating        object\n",
       "Metadata      object\n",
       "Cost          object\n",
       "Cuisines      object\n",
       "Timings       object\n",
       "dtype: object"
      ]
     },
     "execution_count": 150,
     "metadata": {},
     "output_type": "execute_result"
    }
   ],
   "source": [
    "#Datatypes of our dataframe\n",
    "df.dtypes"
   ]
  },
  {
   "cell_type": "code",
   "execution_count": 151,
   "metadata": {},
   "outputs": [],
   "source": [
    "#Changing the datatypes of Restaurant, Review\n",
    "df['Restaurant'] = df['Restaurant'].astype(str)\n",
    "df['Review'] = df['Review'].astype(str)"
   ]
  },
  {
   "cell_type": "code",
   "execution_count": 152,
   "metadata": {},
   "outputs": [],
   "source": [
    "# Cost values are separated by comma in general (22,500 = 22500)\n",
    "df['Cost'] = df['Cost'].str.replace(',','').astype(int)"
   ]
  },
  {
   "cell_type": "code",
   "execution_count": 154,
   "metadata": {},
   "outputs": [],
   "source": [
    "# Making a cuisine list for every restaurant\n",
    "df['Cuisines'] = df['Cuisines'].str.split(',')"
   ]
  },
  {
   "cell_type": "code",
   "execution_count": 155,
   "metadata": {},
   "outputs": [
    {
     "data": {
      "text/html": [
       "<div>\n",
       "<style scoped>\n",
       "    .dataframe tbody tr th:only-of-type {\n",
       "        vertical-align: middle;\n",
       "    }\n",
       "\n",
       "    .dataframe tbody tr th {\n",
       "        vertical-align: top;\n",
       "    }\n",
       "\n",
       "    .dataframe thead th {\n",
       "        text-align: right;\n",
       "    }\n",
       "</style>\n",
       "<table border=\"1\" class=\"dataframe\">\n",
       "  <thead>\n",
       "    <tr style=\"text-align: right;\">\n",
       "      <th></th>\n",
       "      <th>Restaurant</th>\n",
       "      <th>Review</th>\n",
       "      <th>Rating</th>\n",
       "      <th>Metadata</th>\n",
       "      <th>Cost</th>\n",
       "      <th>Cuisines</th>\n",
       "      <th>Timings</th>\n",
       "    </tr>\n",
       "  </thead>\n",
       "  <tbody>\n",
       "    <tr>\n",
       "      <th>1712</th>\n",
       "      <td>Hotel Zara Hi-Fi</td>\n",
       "      <td>It’s a good restaurant and immediately deliver...</td>\n",
       "      <td>5</td>\n",
       "      <td>1 Review , 2 Followers</td>\n",
       "      <td>400</td>\n",
       "      <td>[Chinese,  North Indian]</td>\n",
       "      <td>11:30 AM to 1 AM</td>\n",
       "    </tr>\n",
       "    <tr>\n",
       "      <th>7855</th>\n",
       "      <td>Khaan Saab</td>\n",
       "      <td>I went to khaansaab on a Sunday night. It was ...</td>\n",
       "      <td>5</td>\n",
       "      <td>13 Reviews , 26 Followers</td>\n",
       "      <td>1100</td>\n",
       "      <td>[North Indian,  Mughlai]</td>\n",
       "      <td>12 Noon to 3:30 PM, 7 PM to 11:30 PM</td>\n",
       "    </tr>\n",
       "    <tr>\n",
       "      <th>2756</th>\n",
       "      <td>3B's - Buddies, Bar &amp; Barbecue</td>\n",
       "      <td>Good service by govind and Shivam they were ve...</td>\n",
       "      <td>5</td>\n",
       "      <td>1 Review , 7 Followers</td>\n",
       "      <td>1100</td>\n",
       "      <td>[North Indian,  Mediterranean,  European]</td>\n",
       "      <td>12 Noon to 4 PM, 6:30 PM to 11:30 PM</td>\n",
       "    </tr>\n",
       "    <tr>\n",
       "      <th>2369</th>\n",
       "      <td>Amul</td>\n",
       "      <td>Awesome !🙏</td>\n",
       "      <td>5</td>\n",
       "      <td>0 Reviews</td>\n",
       "      <td>150</td>\n",
       "      <td>[Ice Cream,  Desserts]</td>\n",
       "      <td>10 AM to 5 AM</td>\n",
       "    </tr>\n",
       "    <tr>\n",
       "      <th>1209</th>\n",
       "      <td>Absolute Sizzlers</td>\n",
       "      <td>Its great place dine absolute sizzler absolute...</td>\n",
       "      <td>5</td>\n",
       "      <td>1 Review</td>\n",
       "      <td>750</td>\n",
       "      <td>[Continental,  American,  Chinese]</td>\n",
       "      <td>11:30 AM to 1 AM</td>\n",
       "    </tr>\n",
       "  </tbody>\n",
       "</table>\n",
       "</div>"
      ],
      "text/plain": [
       "                          Restaurant                                             Review Rating                   Metadata  Cost                                   Cuisines                               Timings\n",
       "1712                Hotel Zara Hi-Fi  It’s a good restaurant and immediately deliver...      5     1 Review , 2 Followers   400                   [Chinese,  North Indian]                      11:30 AM to 1 AM\n",
       "7855                      Khaan Saab  I went to khaansaab on a Sunday night. It was ...      5  13 Reviews , 26 Followers  1100                   [North Indian,  Mughlai]  12 Noon to 3:30 PM, 7 PM to 11:30 PM\n",
       "2756  3B's - Buddies, Bar & Barbecue  Good service by govind and Shivam they were ve...      5     1 Review , 7 Followers  1100  [North Indian,  Mediterranean,  European]  12 Noon to 4 PM, 6:30 PM to 11:30 PM\n",
       "2369                            Amul                                         Awesome !🙏      5                  0 Reviews   150                     [Ice Cream,  Desserts]                         10 AM to 5 AM\n",
       "1209               Absolute Sizzlers  Its great place dine absolute sizzler absolute...      5                   1 Review   750         [Continental,  American,  Chinese]                      11:30 AM to 1 AM"
      ]
     },
     "execution_count": 155,
     "metadata": {},
     "output_type": "execute_result"
    }
   ],
   "source": [
    "df.sample(5)"
   ]
  },
  {
   "cell_type": "code",
   "execution_count": null,
   "metadata": {},
   "outputs": [],
   "source": []
  }
 ],
 "metadata": {
  "colab": {
   "collapsed_sections": [],
   "name": "ZOMATO RESTAURANT CLUSTERING AND SENTIMENT ANALYSIS.ipynb",
   "provenance": []
  },
  "kernelspec": {
   "display_name": "Python 3",
   "language": "python",
   "name": "python3"
  },
  "language_info": {
   "codemirror_mode": {
    "name": "ipython",
    "version": 3
   },
   "file_extension": ".py",
   "mimetype": "text/x-python",
   "name": "python",
   "nbconvert_exporter": "python",
   "pygments_lexer": "ipython3",
   "version": "3.7.6"
  }
 },
 "nbformat": 4,
 "nbformat_minor": 1
}
